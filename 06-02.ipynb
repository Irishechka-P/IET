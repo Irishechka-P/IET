{
 "cells": [
  {
   "cell_type": "code",
   "execution_count": 1,
   "id": "dynamic-broadcasting",
   "metadata": {},
   "outputs": [],
   "source": [
    "import numpy as np\n",
    "from numpy.linalg import matrix_rank as rnk\n"
   ]
  },
  {
   "cell_type": "code",
   "execution_count": 2,
   "id": "fabulous-confusion",
   "metadata": {},
   "outputs": [],
   "source": [
    "# if a-b-c > b\n",
    "N1 = np.array([[0, 1, 1, 1, 1, 0, 0],\n",
    "               [0, 1, 0, 0, 0, 0, 0],\n",
    "               [0, 0, 1, 0, 0, 0, 0],\n",
    "               [1, 1, 0, 0, 0, 1, 0],\n",
    "               [0, 0, 0, 0, 1, 0, 0],\n",
    "               [0, 0, 0, 0, 0, 1, 0],\n",
    "               [0, 0, 0, 0, 0, 0, 1],\n",
    "               ]\n",
    "              )\n"
   ]
  },
  {
   "cell_type": "code",
   "execution_count": 3,
   "id": "individual-frontier",
   "metadata": {},
   "outputs": [],
   "source": [
    "# if b > a-b-c > c\n",
    "N2 = np.array([[0, 0, 1, 0, 0, 0, 1],\n",
    "               [0, 1, 0, 0, 0, 0, 0],\n",
    "               [1, 1, 1, 0, 0, 0, 0],\n",
    "               [0, 0, 0, 0, 0, 1, 0],\n",
    "               [0, 0, 0, 0, 0, 0, 1],\n",
    "               [0, 1, 0, 1, 0, 1, 0],\n",
    "               [0, 0, 0, 0, 1, 0, 0],\n",
    "               ]\n",
    "              )"
   ]
  },
  {
   "cell_type": "code",
   "execution_count": 4,
   "id": "fifty-norman",
   "metadata": {},
   "outputs": [],
   "source": [
    "# if c > a-b-c\n",
    "N3 = np.array([[0, 0, 0, 0, 0, 0, 1],\n",
    "               [0, 1, 1, 0, 0, 0, 0],\n",
    "               [1, 1, 0, 0, 0, 0, 0],\n",
    "               [0, 0, 0, 0, 1, 0, 0],\n",
    "               [0, 0, 1, 0, 0, 0, 1],  # в отчете ошибка\n",
    "               [0, 1, 1, 1, 1, 0, 0],\n",
    "               [0, 0, 0, 0, 0, 1, 0],\n",
    "               ]\n",
    "              )"
   ]
  },
  {
   "cell_type": "code",
   "execution_count": 20,
   "id": "representative-saint",
   "metadata": {},
   "outputs": [
    {
     "data": {
      "text/plain": [
       "{1: array([[0, 1, 1, 1, 1, 0, 0],\n",
       "        [0, 1, 0, 0, 0, 0, 0],\n",
       "        [0, 0, 1, 0, 0, 0, 0],\n",
       "        [1, 1, 0, 0, 0, 1, 0],\n",
       "        [0, 0, 0, 0, 1, 0, 0],\n",
       "        [0, 0, 0, 0, 0, 1, 0],\n",
       "        [0, 0, 0, 0, 0, 0, 1]]),\n",
       " 2: array([[0, 0, 1, 0, 0, 0, 1],\n",
       "        [0, 1, 0, 0, 0, 0, 0],\n",
       "        [1, 1, 1, 0, 0, 0, 0],\n",
       "        [0, 0, 0, 0, 0, 1, 0],\n",
       "        [0, 0, 0, 0, 0, 0, 1],\n",
       "        [0, 1, 0, 1, 0, 1, 0],\n",
       "        [0, 0, 0, 0, 1, 0, 0]]),\n",
       " 3: array([[0, 0, 0, 0, 0, 0, 1],\n",
       "        [0, 1, 1, 0, 0, 0, 0],\n",
       "        [1, 1, 0, 0, 0, 0, 0],\n",
       "        [0, 0, 0, 0, 1, 0, 0],\n",
       "        [0, 0, 1, 0, 0, 0, 1],\n",
       "        [0, 1, 1, 1, 1, 0, 0],\n",
       "        [0, 0, 0, 0, 0, 1, 0]])}"
      ]
     },
     "execution_count": 20,
     "metadata": {},
     "output_type": "execute_result"
    }
   ],
   "source": [
    "d = {1: N1, 2: N2, 3: N3}\n",
    "\n",
    "d"
   ]
  },
  {
   "cell_type": "code",
   "execution_count": 38,
   "id": "radical-bahamas",
   "metadata": {},
   "outputs": [],
   "source": [
    "def foo(matrix, stop=6, backpack=\"\"):\n",
    "    if stop < 0:\n",
    "        return\n",
    "    if np.all(matrix > 0):\n",
    "        print(\"YES\", backpack)\n",
    "    foo(matrix.dot(d[1]), stop-1, backpack+\"1\")\n",
    "    foo(matrix.dot(d[2]), stop-1, backpack+\"2\")\n",
    "    foo(matrix.dot(d[3]), stop-1, backpack+\"3\")"
   ]
  },
  {
   "cell_type": "code",
   "execution_count": 32,
   "id": "billion-cooperation",
   "metadata": {},
   "outputs": [],
   "source": [
    "e = [\n",
    "    [1, 0, 0, 0, 0, 0, 0],\n",
    "    [0, 1, 0, 0, 0, 0, 0], \n",
    "    [0, 0, 1, 0, 0, 0, 0],\n",
    "    [0, 0, 0, 1, 0, 0, 0],\n",
    "    [0, 0, 0, 0, 1, 0, 0],\n",
    "    [0, 0, 0, 0, 0, 1, 0],\n",
    "    [0, 0, 0, 0, 0, 0, 1]\n",
    "]"
   ]
  },
  {
   "cell_type": "code",
   "execution_count": 39,
   "id": "bizarre-estimate",
   "metadata": {},
   "outputs": [
    {
     "name": "stdout",
     "output_type": "stream",
     "text": [
      "YES 233122\n",
      "YES 233123\n",
      "YES 233332\n",
      "YES 233333\n",
      "YES 333122\n",
      "YES 333123\n",
      "YES 333332\n",
      "YES 333333\n"
     ]
    }
   ],
   "source": [
    "foo(np.array(e))"
   ]
  },
  {
   "cell_type": "code",
   "execution_count": null,
   "id": "advanced-model",
   "metadata": {},
   "outputs": [],
   "source": []
  }
 ],
 "metadata": {
  "kernelspec": {
   "display_name": "Python 3",
   "language": "python",
   "name": "python3"
  },
  "language_info": {
   "codemirror_mode": {
    "name": "ipython",
    "version": 3
   },
   "file_extension": ".py",
   "mimetype": "text/x-python",
   "name": "python",
   "nbconvert_exporter": "python",
   "pygments_lexer": "ipython3",
   "version": "3.8.5"
  }
 },
 "nbformat": 4,
 "nbformat_minor": 5
}
